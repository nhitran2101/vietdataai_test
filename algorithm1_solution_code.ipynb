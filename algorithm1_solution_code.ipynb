{
 "cells": [
  {
   "metadata": {},
   "cell_type": "markdown",
   "source": "# **Algorithm 1**",
   "id": "598d961fa7587f6b"
  },
  {
   "metadata": {
    "ExecuteTime": {
     "end_time": "2024-11-23T07:25:00.618425Z",
     "start_time": "2024-11-23T07:25:00.615200Z"
    }
   },
   "cell_type": "code",
   "source": "import numpy as np",
   "id": "eeca503ed24cd64a",
   "outputs": [],
   "execution_count": 29
  },
  {
   "metadata": {},
   "cell_type": "markdown",
   "source": "#### **Pre-define some variable**",
   "id": "9f0ce037f1804150"
  },
  {
   "metadata": {
    "ExecuteTime": {
     "end_time": "2024-11-23T07:25:01.486978Z",
     "start_time": "2024-11-23T07:25:01.483784Z"
    }
   },
   "cell_type": "code",
   "source": [
    "# Probability of 1 toss to get \"1\"\n",
    "p_1_toss_success = 1/6\n",
    "\n",
    "# Probability of 1 toss fail (get {2, 3, 4, 5, 6})\n",
    "p_1_toss_fail = 1 - p_1_toss_success\n",
    "\n",
    "# Probability of get \"1\" three in a rows (success in a set of 3 rolls)\n",
    "p_1_set_success = p_1_toss_success ** 3\n",
    "\n",
    "# Probability of failing in a set\n",
    "p_1_set_fail = 1 - p_1_set_success\n",
    "\n",
    "# Winning prize (when get 1 successful set)\n",
    "prize = 100000\n",
    "\n",
    "# 1 toss fail cost\n",
    "cost_1_toss_fail = 1000\n",
    "\n",
    "# 1 toss fail after 1 success toss cost\n",
    "cost_1_toss_fail_after_1_success_toss = 7800 + cost_1_toss_fail\n",
    "\n",
    "# 1 toss fail after 2 success toss cost\n",
    "cost_1_toss_fail_after_2_success_toss = 49500 + cost_1_toss_fail"
   ],
   "id": "b2e16d489c7b9aff",
   "outputs": [],
   "execution_count": 30
  },
  {
   "metadata": {},
   "cell_type": "markdown",
   "source": "### **1. How many dice tosses do you need to get to 95% win confidence?**",
   "id": "916daaf9e01deb0f"
  },
  {
   "metadata": {
    "ExecuteTime": {
     "end_time": "2024-11-23T10:56:00.730944Z",
     "start_time": "2024-11-23T10:56:00.726946Z"
    }
   },
   "cell_type": "code",
   "source": [
    "# We need to get 95% chance of a successful set\n",
    "p_success_target = 0.95\n",
    "\n",
    "# So we also have corresponding probability of fail is 5%\n",
    "p_fail_target = 0.05\n",
    "\n",
    "# After n sets (toss 3 times each set) of attempts (fail), we have a successful set with p = 95% in the next (n + 1 attempt) set\n",
    "n_sets = np.ceil(np.log(p_fail_target) / np.log(p_1_set_fail))\n",
    "\n",
    "# Or we can say, we will get a successful set with p = 95% after toss 3n times\n",
    "tosses = int(n_sets * 3)\n",
    "\n",
    "print(f\"We need {tosses} dice tosses to get to {int(p_success_target * 100)}% win confidence.\")"
   ],
   "id": "f74da5e58bd0b9b2",
   "outputs": [
    {
     "name": "stdout",
     "output_type": "stream",
     "text": [
      "We need 1938 dice tosses to get to 95% win confidence.\n"
     ]
    }
   ],
   "execution_count": 78
  },
  {
   "metadata": {},
   "cell_type": "markdown",
   "source": "### **2. Calculate your net gain/loss per toss.**",
   "id": "8e50359460506310"
  },
  {
   "metadata": {},
   "cell_type": "markdown",
   "source": "#### There are 4 cases to happen",
   "id": "be0a0969ac5ba89c"
  },
  {
   "metadata": {
    "ExecuteTime": {
     "end_time": "2024-11-23T07:37:49.259520Z",
     "start_time": "2024-11-23T07:37:49.255908Z"
    }
   },
   "cell_type": "code",
   "source": [
    "# Probability of winning US$ 100000\n",
    "p_win = p_1_set_success\n",
    "\n",
    "# Probability of failing in 1 first toss is 5/6\n",
    "# That is p_1_toss_fail we defined above\n",
    "\n",
    "# Probability of toss fail after 1 successful\n",
    "p_fail_after_1_toss_success = p_1_toss_success * p_1_toss_fail\n",
    "\n",
    "# Probability of toss fail after 2 successful\n",
    "p_fail_after_2_toss_success = (p_1_toss_success ** 2) * p_1_toss_fail"
   ],
   "id": "33142c52bb05b4db",
   "outputs": [],
   "execution_count": 33
  },
  {
   "metadata": {},
   "cell_type": "markdown",
   "source": "#### **Calculate the Expected Value (EV) of those cases**",
   "id": "5c9b99a84a9ac6cd"
  },
  {
   "metadata": {
    "ExecuteTime": {
     "end_time": "2024-11-23T07:40:47.986755Z",
     "start_time": "2024-11-23T07:40:47.982707Z"
    }
   },
   "cell_type": "code",
   "source": [
    "# EV per toss\n",
    "expected_value = (p_win * prize) - (p_1_toss_fail * cost_1_toss_fail) - (p_fail_after_1_toss_success * cost_1_toss_fail_after_1_success_toss) - (p_fail_after_2_toss_success * cost_1_toss_fail_after_2_success_toss)\n",
    "\n",
    "print(f\"The net gain/loss per toss is ≈ {int(round(expected_value, 0))} (US$).\")"
   ],
   "id": "5c3feecb3802e6cd",
   "outputs": [
    {
     "name": "stdout",
     "output_type": "stream",
     "text": [
      "The net gain/loss per toss is ≈ -2762 (US$).\n"
     ]
    }
   ],
   "execution_count": 42
  },
  {
   "metadata": {},
   "cell_type": "markdown",
   "source": "### **3. What is the minimum amount of prize money you will consider playing this game for? Calculate your relevant premium in this case.**",
   "id": "51367d7d7f3e5a8a"
  },
  {
   "metadata": {
    "ExecuteTime": {
     "end_time": "2024-11-23T10:23:30.189129Z",
     "start_time": "2024-11-23T10:23:30.184153Z"
    }
   },
   "cell_type": "code",
   "source": [
    "# To consider playing the game, the consider EV must be at least 0\n",
    "considered_prize = int(np.array(np.linalg.solve([[p_win]], [((p_1_toss_fail * cost_1_toss_fail) + (p_fail_after_1_toss_success * cost_1_toss_fail_after_1_success_toss) + (p_fail_after_2_toss_success * cost_1_toss_fail_after_2_success_toss))])).item())\n",
    "\n",
    "# Thus, the relevant premium is\n",
    "relevant_premium = consider_prize - prize\n",
    "\n",
    "print(f\"The minimum amount of prize money to consider playing the game is {considered_prize}.\")\n",
    "print(f\"The relevant premium in this case is {relevant_premium}.\")"
   ],
   "id": "5fd3bc603bff79f4",
   "outputs": [
    {
     "name": "stdout",
     "output_type": "stream",
     "text": [
      "The minimum amount of prize money to consider playing the game is 116083.\n",
      "The relevant premium in this case is 596500.\n"
     ]
    }
   ],
   "execution_count": 68
  },
  {
   "metadata": {},
   "cell_type": "markdown",
   "source": "### **4. Please rationalise the most efficient strategy to maximise gain/minimise loss with 4 players playing this game simultaneously.**",
   "id": "46907c28a82489b"
  },
  {
   "metadata": {},
   "cell_type": "markdown",
   "source": "#### **If each player plays the game individually**",
   "id": "7b5a85fc67a8d0ad"
  },
  {
   "metadata": {
    "ExecuteTime": {
     "end_time": "2024-11-23T09:39:51.679474Z",
     "start_time": "2024-11-23T09:39:51.675721Z"
    }
   },
   "cell_type": "code",
   "source": [
    "# Probability to fail (no one wins) with 4 players playing the game simultaneously\n",
    "p_fail_with_4_players = p_1_set_fail ** 4\n",
    "\n",
    "# Probability to win with 4 players playing the game simultaneously\n",
    "p_win_with_4_players = 1 - p_fail_with_4_players\n",
    "\n",
    "# Suppose that we need n sets to get 95% win, so the number of sets needed to get that rate is\n",
    "# n_sets (defined above in question 1)\n",
    "\n",
    "# With that number of sets, if all attempts fail (the cast of all sets fail in the first toss), the cost (minimum) is\n",
    "cost_all_sets_fail = int(n_sets * cost_1_toss_fail)\n",
    "\n",
    "print(f\"The minimum cost to get 95% win confidence is {cost_all_sets_fail}.\")"
   ],
   "id": "5842cd8653dcf339",
   "outputs": [
    {
     "name": "stdout",
     "output_type": "stream",
     "text": [
      "The minimum cost to get 95% win confidence is 646000.\n"
     ]
    }
   ],
   "execution_count": 55
  },
  {
   "metadata": {},
   "cell_type": "markdown",
   "source": [
    "#### **Now, if we don't let any player toss more than once in a row, we can avoid the case of being fined when having 1 toss fail after a successful toss, so every fail toss costs 1000 only**\n",
    "#### **As soon as 3 consecutive 1s appear, stop the game**"
   ],
   "id": "4e9dafdeff71893e"
  },
  {
   "metadata": {
    "ExecuteTime": {
     "end_time": "2024-11-23T09:45:23.781535Z",
     "start_time": "2024-11-23T09:45:23.777762Z"
    }
   },
   "cell_type": "code",
   "source": [
    "# Now with that strategy, each set now just contains 1 toss only\n",
    "\n",
    "# The number of tosses needed to get 95% win confidence now is\n",
    "n_tosses_with_strategy = int(np.ceil(np.log(p_fail_target) / np.log(p_fail_with_4_players)))\n",
    "\n",
    "print(f\"Now we just need {n_tosses_with_strategy} tosses to get 95% win confidence. The minimum cost now reduce to US$ {n_tosses_with_strategy * cost_1_toss_fail}.\")"
   ],
   "id": "83c375a6134d2e7d",
   "outputs": [
    {
     "name": "stdout",
     "output_type": "stream",
     "text": [
      "Now we just need 162 tosses to get 95% win confidence. The minimum cost now reduce to US$ 162000.\n"
     ]
    }
   ],
   "execution_count": 58
  },
  {
   "metadata": {},
   "cell_type": "markdown",
   "source": "### **5.1. How many dice tosses do you need to get to 95% win confidence?**",
   "id": "aabc28025740400d"
  },
  {
   "metadata": {
    "ExecuteTime": {
     "end_time": "2024-11-23T11:01:06.986785Z",
     "start_time": "2024-11-23T11:01:06.982690Z"
    }
   },
   "cell_type": "code",
   "source": [
    "# Winning prize now\n",
    "prize_2_dices = 3000000\n",
    "\n",
    "# Probability of 1 successful toss\n",
    "possible_outcomes = 36\n",
    "winning_outcomes = 3 # \"11\", \"16\" and \"66\"\n",
    "p_1_toss_success_2_dices = winning_outcomes / possible_outcomes\n",
    "\n",
    "# Probability of 1 fail toss\n",
    "p_1_toss_fail_2_dices = 1 - p_1_toss_success_2_dices\n",
    "\n",
    "# Probability of 1 win set\n",
    "p_1_set_success_2_dices = p_1_toss_success_2_dices ** 3\n",
    "\n",
    "# Probability of 1 win loss\n",
    "p_1_set_fail_2_dices = 1 - p_1_set_success_2_dices\n",
    "\n",
    "# After n sets (toss 3 times each set) of attempts (fail), we have a successful set with p = 95% in the next (n + 1 attempt) set\n",
    "n_sets_2_dices = np.ceil(np.log(p_fail_target) / np.log(p_lose_2_dices))\n",
    "\n",
    "# Or we can say, we will get a successful set with p = 95% after toss 3n times\n",
    "tosses_2_dices = int(n_sets_2_dices * 3)\n",
    "\n",
    "print(f\"We need {tosses_2_dices} dice(s) tosses to get to {int(p_success_target * 100)}% win confidence.\")"
   ],
   "id": "405352f8f8e752aa",
   "outputs": [
    {
     "name": "stdout",
     "output_type": "stream",
     "text": [
      "We need 15528 dice(s) tosses to get to 95% win confidence.\n"
     ]
    }
   ],
   "execution_count": 82
  },
  {
   "metadata": {},
   "cell_type": "markdown",
   "source": "### **5.2. Calculate your net gain/loss per toss.**",
   "id": "3961c50dd38d8451"
  },
  {
   "metadata": {},
   "cell_type": "markdown",
   "source": "#### There are 4 cases to happen",
   "id": "b6b2b3ddd0af0ec0"
  },
  {
   "metadata": {
    "ExecuteTime": {
     "end_time": "2024-11-23T11:01:45.891040Z",
     "start_time": "2024-11-23T11:01:45.886771Z"
    }
   },
   "cell_type": "code",
   "source": [
    "# Probability of winning US$ 3000000\n",
    "p_win_2_dices = p_1_set_success_2_dices\n",
    "\n",
    "# Probability of failing in 1 first toss\n",
    "# That is p_1_toss_fail_2_dices we defined above\n",
    "\n",
    "# Probability of toss fail after 1 successful\n",
    "p_fail_after_1_toss_success_2_dices = p_1_toss_success_2_dices * p_1_toss_fail_2_dices\n",
    "\n",
    "# Probability of toss fail after 2 successful\n",
    "p_fail_after_2_toss_success_2_dices = (p_1_toss_success_2_dices ** 2) * p_1_toss_fail_2_dices"
   ],
   "id": "56f463b7f7708c97",
   "outputs": [],
   "execution_count": 83
  },
  {
   "metadata": {},
   "cell_type": "markdown",
   "source": "#### **Calculate the Expected Value (EV) of those cases**",
   "id": "7051e89ee2541f8c"
  },
  {
   "metadata": {
    "ExecuteTime": {
     "end_time": "2024-11-23T11:03:14.379570Z",
     "start_time": "2024-11-23T11:03:14.375311Z"
    }
   },
   "cell_type": "code",
   "source": [
    "# EV per toss\n",
    "expected_value_2_dices = (p_win_2_dices * prize_2_dices) - (p_1_toss_fail_2_dices * cost_1_toss_fail) - (p_fail_after_1_toss_success_2_dices * cost_1_toss_fail_after_1_success_toss) - (p_fail_after_2_toss_success_2_dices * cost_1_toss_fail_after_2_success_toss)\n",
    "\n",
    "print(f\"The net gain/loss per toss is ≈ {int(round(expected_value_2_dices, 0))} (US$).\")"
   ],
   "id": "763aa025641a2c8",
   "outputs": [
    {
     "name": "stdout",
     "output_type": "stream",
     "text": [
      "The net gain/loss per toss is ≈ -174 (US$).\n"
     ]
    }
   ],
   "execution_count": 85
  },
  {
   "metadata": {},
   "cell_type": "code",
   "outputs": [],
   "execution_count": null,
   "source": "",
   "id": "c8bd8cc763a31a57"
  },
  {
   "metadata": {},
   "cell_type": "markdown",
   "source": "### **5.3. What is the minimum amount of prize money you will consider playing this game for? Calculate your relevant premium in this case.**",
   "id": "59315c2b51751fa4"
  },
  {
   "metadata": {
    "ExecuteTime": {
     "end_time": "2024-11-23T11:07:25.280947Z",
     "start_time": "2024-11-23T11:07:25.276079Z"
    }
   },
   "cell_type": "code",
   "source": [
    "# To consider playing the game, the consider EV must be at least 0\n",
    "considered_prize_2_dices = int(np.array(np.linalg.solve([[p_win_2_dices]], [((p_1_toss_fail_2_dices * cost_1_toss_fail) + (p_fail_after_1_toss_success_2_dices * cost_1_toss_fail_after_1_success_toss) + (p_fail_after_2_toss_success_2_dices * cost_1_toss_fail_after_2_success_toss))])).item())\n",
    "\n",
    "# Thus, the relevant premium is\n",
    "relevant_premium_2_dices = considered_prize_2_dices - prize_2_dices\n",
    "\n",
    "print(f\"The minimum amount of prize money to consider playing the game is {considered_prize_2_dices}.\")\n",
    "print(f\"The relevant premium in this case is {relevant_premium_2_dices}.\")"
   ],
   "id": "ecd6781769a6c80b",
   "outputs": [
    {
     "name": "stdout",
     "output_type": "stream",
     "text": [
      "The minimum amount of prize money to consider playing the game is 3301100.\n",
      "The relevant premium in this case is 301100.\n"
     ]
    }
   ],
   "execution_count": 86
  },
  {
   "metadata": {},
   "cell_type": "markdown",
   "source": "### **5.4. Please rationalise the most efficient strategy to maximise gain/minimise loss with 4 players playing this game simultaneously.**",
   "id": "f41128b48d8b5ff3"
  },
  {
   "metadata": {},
   "cell_type": "markdown",
   "source": "#### **If each player plays the game individually**",
   "id": "a0cc9283f0351f1c"
  },
  {
   "metadata": {
    "ExecuteTime": {
     "end_time": "2024-11-23T11:10:14.751829Z",
     "start_time": "2024-11-23T11:10:14.747958Z"
    }
   },
   "cell_type": "code",
   "source": [
    "# Probability to fail (no one wins) with 4 players playing the game simultaneously\n",
    "p_fail_with_4_players_2_dices = p_1_set_fail_2_dices ** 4\n",
    "\n",
    "# Probability to win with 4 players playing the game simultaneously\n",
    "p_win_with_4_players_2_dices = 1 - p_fail_with_4_players_2_dices\n",
    "\n",
    "# Suppose that we need n sets to get 95% win, so the number of sets needed to get that rate is\n",
    "# n_sets_2_dices (defined above in question 5.1)\n",
    "\n",
    "# With that number of sets, if all attempts fail (the cast of all sets fail in the first toss), the cost (minimum) is\n",
    "cost_all_sets_fail_2_dices = int(n_sets_2_dices * cost_1_toss_fail)\n",
    "\n",
    "print(f\"The minimum cost to get 95% win confidence is {cost_all_sets_fail_2_dices}.\")"
   ],
   "id": "6f4d180e3e9fa2c",
   "outputs": [
    {
     "name": "stdout",
     "output_type": "stream",
     "text": [
      "The minimum cost to get 95% win confidence is 5176000.\n"
     ]
    }
   ],
   "execution_count": 87
  },
  {
   "metadata": {},
   "cell_type": "markdown",
   "source": [
    "#### **Now, if we don't let any player toss more than once in a row, we can avoid the case of being fined when having 1 toss fail after a successful toss, so every fail toss costs 1000 only**\n",
    "#### **As soon as 3 consecutive 1s appear, stop the game**\n",
    "##### (Because the rule of getting fined is not changed, so keep the old strategy)"
   ],
   "id": "14054658500d27f8"
  },
  {
   "metadata": {
    "ExecuteTime": {
     "end_time": "2024-11-23T11:12:26.972803Z",
     "start_time": "2024-11-23T11:12:26.969305Z"
    }
   },
   "cell_type": "code",
   "source": [
    "# Now with that strategy, each set now just contains 1 toss only\n",
    "\n",
    "# The number of tosses needed to get 95% win confidence now is\n",
    "n_tosses_with_strategy_2_dices = int(np.ceil(np.log(p_fail_target) / np.log(p_fail_with_4_players_2_dices)))\n",
    "\n",
    "print(f\"Now we just need {n_tosses_with_strategy_2_dices} tosses to get 95% win confidence. The minimum cost now reduce to US$ {n_tosses_with_strategy_2_dices * cost_1_toss_fail}.\")"
   ],
   "id": "60099728ae11e131",
   "outputs": [
    {
     "name": "stdout",
     "output_type": "stream",
     "text": [
      "Now we just need 1294 tosses to get 95% win confidence. The minimum cost now reduce to US$ 1294000.\n"
     ]
    }
   ],
   "execution_count": 88
  },
  {
   "metadata": {},
   "cell_type": "markdown",
   "source": "### **5.5. However, there is an additional catch: upon the 3rd toss to reach 3 times in a row (right before winning), you can pay US$ 1,000,000 to destroy one die forever and win by tossing “1”. Will you pay, and why?**",
   "id": "cb28aefd90b3c319"
  },
  {
   "metadata": {},
   "cell_type": "markdown",
   "source": "#### *Calculate the Expected Value if I pay (got 2 successful tosses already)*",
   "id": "66bb0c914cc6d05d"
  },
  {
   "metadata": {
    "ExecuteTime": {
     "end_time": "2024-11-23T11:22:58.764503Z",
     "start_time": "2024-11-23T11:22:58.760058Z"
    }
   },
   "cell_type": "code",
   "source": [
    "p_win_2_dices_pay_1_million = (p_1_toss_success_2_dices ** 2) * p_1_toss_success\n",
    "fee_to_pay = 1000000 # To destroy 1 dice\n",
    "\n",
    "expected_value_pay_1_million = (p_win_2_dices_pay_1_million * prize_2_dices) - (p_fail_after_2_toss_success_2_dices * cost_1_toss_fail_after_2_success_toss) - fee_to_pay\n",
    "\n",
    "print(f\"If I pay, the expected value is ≈ {int(round(expected_value_pay_1_million, 0))} (US$).\")"
   ],
   "id": "62a58d8ac1a86921",
   "outputs": [
    {
     "name": "stdout",
     "output_type": "stream",
     "text": [
      "If I pay, the expected value is ≈ -996849 (US$).\n"
     ]
    }
   ],
   "execution_count": 90
  },
  {
   "metadata": {},
   "cell_type": "markdown",
   "source": "#### *Calculate the Expected Value if I don't pay (got 2 successful tosses already)*",
   "id": "37c81cc243313a3d"
  },
  {
   "metadata": {
    "ExecuteTime": {
     "end_time": "2024-11-23T11:28:45.414790Z",
     "start_time": "2024-11-23T11:28:45.409871Z"
    }
   },
   "cell_type": "code",
   "source": [
    "p_win_2_dices_dont_pay = p_win_2_dices\n",
    "\n",
    "expected_value_dont_pay = (p_win_2_dices_dont_pay * prize_2_dices) - (p_fail_after_2_toss_success_2_dices * cost_1_toss_fail_after_2_success_toss)\n",
    "\n",
    "print(f\"If I don't pay, the expected value is ≈ {int(round(expected_value_dont_pay, 0))} (US$).\")"
   ],
   "id": "52aeb25d7bdf7b3b",
   "outputs": [
    {
     "name": "stdout",
     "output_type": "stream",
     "text": [
      "If I don't pay, the expected value is ≈ 1415 (US$).\n"
     ]
    }
   ],
   "execution_count": 91
  },
  {
   "metadata": {
    "ExecuteTime": {
     "end_time": "2024-11-23T11:32:39.824349Z",
     "start_time": "2024-11-23T11:32:39.820113Z"
    }
   },
   "cell_type": "code",
   "source": [
    "sign = \"<\" if expected_value_dont_pay < expected_value_pay_1_million else \">\"\n",
    "result = \"will pay\" if expected_value_dont_pay < expected_value_pay_1_million else \"will not pay\"\n",
    "\n",
    "print(f\"Because expected_value_dont_pay {sign} expected_value_pay_1_million, so I {result}.\")"
   ],
   "id": "107e26134d5a6b6e",
   "outputs": [
    {
     "name": "stdout",
     "output_type": "stream",
     "text": [
      "Because expected_value_dont_pay > expected_value_pay_1_million, so I will not pay.\n"
     ]
    }
   ],
   "execution_count": 92
  }
 ],
 "metadata": {
  "kernelspec": {
   "name": "python3",
   "language": "python",
   "display_name": "Python 3 (ipykernel)"
  }
 },
 "nbformat": 5,
 "nbformat_minor": 9
}
